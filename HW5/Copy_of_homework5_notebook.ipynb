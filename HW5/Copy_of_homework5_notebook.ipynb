{
 "nbformat": 4,
 "nbformat_minor": 0,
 "metadata": {
  "colab": {
   "provenance": []
  },
  "kernelspec": {
   "name": "python3",
   "display_name": "Python 3"
  },
  "language_info": {
   "name": "python"
  }
 },
 "cells": [
  {
   "cell_type": "code",
   "execution_count": 8,
   "metadata": {
    "id": "JJpq0h1u7v1l",
    "pycharm": {
     "name": "#%%\n"
    }
   },
   "outputs": [],
   "source": [
    "from itertools import product\n",
    "from random import shuffle, seed"
   ]
  },
  {
   "cell_type": "markdown",
   "source": [
    "The goal of this problem is to implement a stable matching algorithm. For simplicity, we'll number our companies from $0$ to $n-1$ and our employees from $0$ to $n-1$.  Given the preference lists for the companies and the employees, construct a stable matching.  You should return a list ```matching``` whose index $i$ element is the index of the company that employee $i$ is hired by.\n",
    "\n",
    "You can make this run in $O(n^2)$ time but you have to be a little careful with your data structures.  You don't need to worry about runtime however as we'll only test it on fairly small examples."
   ],
   "metadata": {
    "id": "EgPw9XDQQRYC",
    "pycharm": {
     "name": "#%% md\n"
    }
   }
  },
  {
   "cell_type": "code",
   "source": [
    "def stable_matching(comp_prefs, emp_prefs):\n",
    "  '''comp_prefs[i] is a list of length n giving the preference list of company\n",
    "  i in order from highest preference to lowest preference.\n",
    "  emp_prefs[i] is a list of length n giving the preference list of employee\n",
    "  i in order from highest preference to lowest preference. \n",
    "  '''\n",
    "  n = len(comp_prefs)\n",
    "  assert len(emp_prefs) == n, \"Number of employees and companies don't match\"\n",
    "\n",
    "  matching = n*[None]\n",
    "\n",
    "  while None in matching:\n",
    "    freeEmpIdx = matching.index(None)\n",
    "    for comp in emp_prefs[freeEmpIdx]:\n",
    "      if matching.count(comp) == 0:\n",
    "        matching[freeEmpIdx] = comp\n",
    "        break\n",
    "      else:\n",
    "        curEmp = matching.index(comp)\n",
    "        if comp_prefs[comp].index(freeEmpIdx) < comp_prefs[comp].index(curEmp):\n",
    "          matching[freeEmpIdx] = comp\n",
    "          matching[curEmp] = None\n",
    "          break\n",
    "  return matching"
   ],
   "metadata": {
    "id": "ruXKgQWsRK_C",
    "pycharm": {
     "name": "#%%\n"
    }
   },
   "execution_count": 9,
   "outputs": []
  },
  {
   "cell_type": "markdown",
   "source": [
    "Here's some quick test code."
   ],
   "metadata": {
    "id": "XlWdU9t4AJDm",
    "pycharm": {
     "name": "#%% md\n"
    }
   }
  },
  {
   "cell_type": "code",
   "source": [
    "def is_stable(emp_matching, comp_prefs, emp_prefs):\n",
    "  n = len(emp_matching)\n",
    "  assert len(emp_prefs) == n and len(comp_prefs) == n, 'lengths of matching and preferences must match'\n",
    "\n",
    "  comp_matching = [emp_matching.index(c) for c in range(n)] #matching from the company side\n",
    "\n",
    "  for comp, emp in product(range(n), range(n)):\n",
    "    if (comp_prefs[comp].index(emp) < comp_prefs[comp].index(comp_matching[comp])\n",
    "      and emp_prefs[emp].index(comp) < emp_prefs[emp].index(emp_matching[emp])):\n",
    "      print(f\"company {comp} and employee {emp} form an unstable pair\")\n",
    "      return False\n",
    "  return True"
   ],
   "metadata": {
    "id": "u73GVPxrAQG8",
    "pycharm": {
     "name": "#%%\n"
    }
   },
   "execution_count": 10,
   "outputs": []
  },
  {
   "cell_type": "code",
   "source": [
    "n = 10\n",
    "seed(42)\n",
    "\n",
    "comp_prefs = []\n",
    "emp_prefs = []\n",
    "for _ in range(n):\n",
    "  comp_pref_list = list(range(n))\n",
    "  emp_pref_list = list(range(n))\n",
    "  shuffle(comp_pref_list)\n",
    "  shuffle(emp_pref_list)\n",
    "  comp_prefs.append(comp_pref_list)\n",
    "  emp_prefs.append(emp_pref_list)\n",
    "\n",
    "matching = stable_matching(comp_prefs, emp_prefs)\n",
    "\n",
    "print(f\"matching: {matching}\")"
   ],
   "metadata": {
    "id": "_Pws5RoH-b76",
    "colab": {
     "base_uri": "https://localhost:8080/"
    },
    "outputId": "3b8c9d8c-750f-4489-82c7-bd5ce96be1a1",
    "pycharm": {
     "name": "#%%\n"
    }
   },
   "execution_count": 11,
   "outputs": [
    {
     "output_type": "stream",
     "name": "stdout",
     "text": [
      "matching: [5, 7, 2, 0, 4, 9, 8, 3, 6, 1]\n"
     ]
    }
   ]
  },
  {
   "cell_type": "code",
   "source": [
    "is_stable(matching, comp_prefs, emp_prefs)"
   ],
   "metadata": {
    "id": "kCjstzgnDVRd",
    "colab": {
     "base_uri": "https://localhost:8080/"
    },
    "outputId": "220dea70-5309-4afd-cf05-b446a49d0b7c",
    "pycharm": {
     "name": "#%%\n"
    }
   },
   "execution_count": 12,
   "outputs": [
    {
     "output_type": "execute_result",
     "data": {
      "text/plain": [
       "True"
      ]
     },
     "metadata": {},
     "execution_count": 12
    }
   ]
  },
  {
   "cell_type": "markdown",
   "source": [
    "**What is the runtime of the algorithm you implemented and why?**"
   ],
   "metadata": {
    "id": "_vHML-vlA6iR",
    "pycharm": {
     "name": "#%% md\n"
    }
   }
  },
  {
   "cell_type": "markdown",
   "source": [
    "The runtime of the algorithm is O(n^2). \n",
    "\n",
    "We used Gale-Shapley algorithm to find a stable matching: we iterated through all free employee while there is any free employee available. Every free employee goes to all companies in the employee's preference list according to the order. For every company the employee goes to, he checks if the company is free, if yes, they form a \"marriage\". If the company is not free, then the company chooses either says no to the employee or dumps its current engagement according to its preference list.\n",
    "\n",
    "Here time Complexity of Gale-Shapley Algorithm is O(n^2).\n"
   ],
   "metadata": {
    "id": "IT_9VRGoBT3v",
    "pycharm": {
     "name": "#%% md\n"
    }
   }
  },
  {
   "cell_type": "markdown",
   "source": [
    "**If you achieved $O(n^2)$, how did you do it?  If not, what would you need to change in your implementation to get $O(n^2)$?**"
   ],
   "metadata": {
    "id": "OkkF42loBA0F",
    "pycharm": {
     "name": "#%% md\n"
    }
   }
  },
  {
   "cell_type": "markdown",
   "source": [
    "I used Gale-Shapley algorithm, which is O(n^2)."
   ],
   "metadata": {
    "id": "-j0rseJoBWOs",
    "pycharm": {
     "name": "#%% md\n"
    }
   }
  }
 ]
}