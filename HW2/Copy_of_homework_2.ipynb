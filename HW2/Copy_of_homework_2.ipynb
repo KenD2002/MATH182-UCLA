{
 "nbformat": 4,
 "nbformat_minor": 0,
 "metadata": {
  "colab": {
   "provenance": []
  },
  "kernelspec": {
   "name": "python3",
   "display_name": "Python 3"
  },
  "language_info": {
   "name": "python"
  }
 },
 "cells": [
  {
   "cell_type": "code",
   "source": [
    "import random\n",
    "from heapq import heappop, heappush"
   ],
   "metadata": {
    "id": "XKsDUb7HhRN6",
    "pycharm": {
     "name": "#%%\n"
    }
   },
   "execution_count": 2,
   "outputs": []
  },
  {
   "cell_type": "markdown",
   "source": [
    "# **Python Background**"
   ],
   "metadata": {
    "id": "MeQelqavJnly",
    "pycharm": {
     "name": "#%% md\n"
    }
   }
  },
  {
   "cell_type": "markdown",
   "source": [
    "The [heapq](https://docs.python.org/3/library/heapq.html) module implements a min-heap which can be used as a priority queue.  Take a look at the documentation to get a feel for how it works.  Understand enough so that the following chunk of code makes sense to you."
   ],
   "metadata": {
    "id": "nYqtC9bcKImG",
    "pycharm": {
     "name": "#%% md\n"
    }
   }
  },
  {
   "cell_type": "code",
   "source": [
    "heap_array = []\n",
    "tasks = [(10,'A'), (8,'B'), (11, 'C'), (9,'D')]\n",
    "for T in tasks:\n",
    "  heappush(heap_array, T)\n",
    "\n",
    "print([heappop(heap_array) for _ in range(len(heap_array))])"
   ],
   "metadata": {
    "colab": {
     "base_uri": "https://localhost:8080/"
    },
    "id": "yrzbFZtWJcJY",
    "outputId": "d8cd4a2a-8083-4c51-cb7f-27969467cf59",
    "pycharm": {
     "name": "#%%\n"
    }
   },
   "execution_count": 3,
   "outputs": [
    {
     "output_type": "stream",
     "name": "stdout",
     "text": [
      "[(8, 'B'), (9, 'D'), (10, 'A'), (11, 'C')]\n"
     ]
    }
   ]
  },
  {
   "cell_type": "markdown",
   "source": [
    "**How are tuples compared in Python?  Which is bigger $(2,3,1,5)$ or $(2,3,2,-10)$?**"
   ],
   "metadata": {
    "id": "susECOT9BUtR",
    "pycharm": {
     "name": "#%% md\n"
    }
   }
  },
  {
   "cell_type": "markdown",
   "source": [
    "Tuples are compared element-wise, starting from the first element of each tuple. Take the two tuples in the question as examples: python first compare the first element in both tuple, and 2 = 2. Then, it moves on to compare the second element in both tuple, and 3 = 3. Then, it moves on to compare the third element in both tuple, and since 1 < 2, (2, 3, 1, 5) is smaller than (2, 3, 2, -10)."
   ],
   "metadata": {
    "id": "SWMAxVVbqqK4",
    "pycharm": {
     "name": "#%% md\n"
    }
   }
  },
  {
   "cell_type": "markdown",
   "source": [
    "# **Building a Priority Queue**\n",
    "\n"
   ],
   "metadata": {
    "id": "y9TYNgnOK29J",
    "pycharm": {
     "name": "#%% md\n"
    }
   }
  },
  {
   "cell_type": "markdown",
   "source": [
    "We have a large collection of tasks which we'd like to dispatch to a single processor. We'll receive a sequence of tasks in the form (task_name, priority), where priority is an integer. For this implementation, the smaller priority is, the more urgent the task.  A task with priority=0 is higher priority than a task with priority=100.\n",
    "\n",
    "We'll support two operations: ```insert(task_name, priority)``` which adds a new task with a given name and priority and ```next_task()``` which returns the name of the highest priority task that hasn't been scheduled yet.  We'll also have an ```is_empty()``` function for convenience.\n",
    "\n",
    "Here's a simple implementation that we'll build off of."
   ],
   "metadata": {
    "id": "BtuOl7QRNTfh",
    "pycharm": {
     "name": "#%% md\n"
    }
   }
  },
  {
   "cell_type": "code",
   "source": [
    "class TaskScheduler:\n",
    "\n",
    "  def __init__(self):\n",
    "    self.heap = []\n",
    "  \n",
    "  def insert(self, task_name, priority):\n",
    "    heappush(self.heap, (priority, task_name))\n",
    "  \n",
    "  def next_task(self):\n",
    "    _,  task_name = heappop(self.heap) #(underscore is conventionally used to represent a variable that we don't use)\n",
    "    return task_name\n",
    "  \n",
    "  def is_empty(self):\n",
    "    return len(self.heap) == 0"
   ],
   "metadata": {
    "id": "jpld1VThJnxP",
    "pycharm": {
     "name": "#%%\n"
    }
   },
   "execution_count": 4,
   "outputs": []
  },
  {
   "cell_type": "markdown",
   "source": [
    "You can use TaskScheduler as follows."
   ],
   "metadata": {
    "id": "ix_UKLvABmhh",
    "pycharm": {
     "name": "#%% md\n"
    }
   }
  },
  {
   "cell_type": "code",
   "source": [
    "scheduler = TaskScheduler()\n",
    "scheduler.insert(\"Task 1\", 5)\n",
    "scheduler.insert(\"Task 2\", 8)\n",
    "scheduler.insert(\"Task 3\", 1)\n",
    "print(scheduler.next_task())\n",
    "print(scheduler.next_task())\n",
    "scheduler.insert(\"Task 4\", 0)\n",
    "print(scheduler.next_task())"
   ],
   "metadata": {
    "colab": {
     "base_uri": "https://localhost:8080/"
    },
    "id": "brZ2RDo9JTUB",
    "outputId": "08d26c2b-a03b-44af-e45c-d4374ed8eaa0",
    "pycharm": {
     "name": "#%%\n"
    }
   },
   "execution_count": 5,
   "outputs": [
    {
     "output_type": "stream",
     "name": "stdout",
     "text": [
      "Task 3\n",
      "Task 1\n",
      "Task 4\n"
     ]
    }
   ]
  },
  {
   "cell_type": "markdown",
   "source": [
    "**Suppose that TaskScheduler holds two tasks with the same priority.  You might hope that the first task to be added would be scheduled first.  This isn't necessarily the case, although it sometimes is.  Give two code snippets showing that two tasks with the same priority can be scheduled either in order of insertion, or in the opposite order.**"
   ],
   "metadata": {
    "id": "ljHuujWkNYIu",
    "pycharm": {
     "name": "#%% md\n"
    }
   }
  },
  {
   "cell_type": "code",
   "source": [
    "# This code snippet shows that two tasks with the same priority can be scheduled in order of insertion.\n",
    "# The reason is that \"Task 1\" is smaller than \"Task 2\" by using dictionary order.\n",
    "\n",
    "scheduler1 = TaskScheduler()\n",
    "scheduler1.insert(\"Task 1\", 5)\n",
    "scheduler1.insert(\"Task 2\", 5)\n",
    "print(scheduler1.next_task())\n",
    "print(scheduler1.next_task())"
   ],
   "metadata": {
    "id": "sCPQDpIOJ9xx",
    "colab": {
     "base_uri": "https://localhost:8080/"
    },
    "outputId": "1aa0b162-3c35-45f8-b881-f9ba02d45f07",
    "pycharm": {
     "name": "#%%\n"
    }
   },
   "execution_count": 6,
   "outputs": [
    {
     "output_type": "stream",
     "name": "stdout",
     "text": [
      "Task 1\n",
      "Task 2\n"
     ]
    }
   ]
  },
  {
   "cell_type": "code",
   "source": [
    "# This code snippet shows that two tasks with the same priority can be scheduled in the opposite order of insertion.\n",
    "# The reason is that \"Task 1\" is smaller than \"Task 2\" by using dictionary order.\n",
    "\n",
    "scheduler2 = TaskScheduler()\n",
    "scheduler2.insert(\"Task 2\", 5)\n",
    "scheduler2.insert(\"Task 1\", 5)\n",
    "print(scheduler2.next_task())\n",
    "print(scheduler2.next_task())"
   ],
   "metadata": {
    "id": "_y0XOIYCPTvT",
    "colab": {
     "base_uri": "https://localhost:8080/"
    },
    "outputId": "ce974912-9068-49d4-e539-1e18fc66dfc2",
    "pycharm": {
     "name": "#%%\n"
    }
   },
   "execution_count": 7,
   "outputs": [
    {
     "output_type": "stream",
     "name": "stdout",
     "text": [
      "Task 1\n",
      "Task 2\n"
     ]
    }
   ]
  },
  {
   "cell_type": "markdown",
   "source": [
    "**Make a task scheduler that's \"stable\", in the sense that any two tasks with equal priority are removed in the order that they were added.**"
   ],
   "metadata": {
    "id": "aQvSVQ6ksXvC",
    "pycharm": {
     "name": "#%% md\n"
    }
   }
  },
  {
   "cell_type": "code",
   "source": [
    "class StableTaskScheduler:\n",
    "\n",
    "  def __init__(self):\n",
    "    self.heap = []\n",
    "    self.entryCount = 0\n",
    "    '''\n",
    "    You can add other variables here if you want.\n",
    "    For Python reasons, call them self.<name of the variable> and\n",
    "    refer to them like that throughout.\n",
    "    '''\n",
    "  \n",
    "  def insert(self, task_name, priority):\n",
    "    heappush(self.heap, (priority, self.entryCount, task_name))\n",
    "    self.entryCount += 1\n",
    "  \n",
    "  def next_task(self):\n",
    "    _, _, task_name = heappop(self.heap) #(underscore is conventionally used to represent a variable that we don't use)\n",
    "    return task_name\n",
    "  \n",
    "  def empty(self):\n",
    "    return len(self.heap) == 0"
   ],
   "metadata": {
    "id": "6DgzcIO-swgt",
    "pycharm": {
     "name": "#%%\n"
    }
   },
   "execution_count": 8,
   "outputs": []
  },
  {
   "cell_type": "code",
   "source": [
    "#Add a quick test here to make sure it works.\n",
    "\n",
    "scheduler2 = StableTaskScheduler()\n",
    "scheduler2.insert(\"Task 2\", 5)\n",
    "scheduler2.insert(\"Task 1\", 5)\n",
    "print(scheduler2.next_task())\n",
    "print(scheduler2.next_task())"
   ],
   "metadata": {
    "id": "y9YQyayItVmn",
    "colab": {
     "base_uri": "https://localhost:8080/"
    },
    "outputId": "d9c83f03-4c87-4a9d-dfe1-efd725344d0b",
    "pycharm": {
     "name": "#%%\n"
    }
   },
   "execution_count": 9,
   "outputs": [
    {
     "output_type": "stream",
     "name": "stdout",
     "text": [
      "Task 2\n",
      "Task 1\n"
     ]
    }
   ]
  },
  {
   "cell_type": "markdown",
   "source": [
    "**Another property that you might want is \"liveness\".  We'd like to guarantee that any job currently in the queue will eventually be scheduled as long as ```next_task()``` is called infinitely many times.  Why is this not currently guaranteed?**"
   ],
   "metadata": {
    "id": "D2b_zjBkv508",
    "pycharm": {
     "name": "#%% md\n"
    }
   }
  },
  {
   "cell_type": "markdown",
   "source": [
    "Because the program may also be inserted with processes with higher priority continuously, resulting in some specific task with a low priority never be executed."
   ],
   "metadata": {
    "id": "cM-khSyY16Lc",
    "pycharm": {
     "name": "#%% md\n"
    }
   }
  },
  {
   "cell_type": "markdown",
   "source": [
    "**To ensure liveness, we'll only allow a nonnegative initial priority for each task. Then every time a new task is added to the queue, we'll decrease by 1 the priorities of all tasks currently in the queue (priorities are allowed to become negative).  Why does this guarantee liveness?**"
   ],
   "metadata": {
    "id": "_Vu03ci6xbVL",
    "pycharm": {
     "name": "#%% md\n"
    }
   }
  },
  {
   "cell_type": "markdown",
   "source": [
    "Assume we inserted a new task, task_x, with priority n, and there are m tasks existed in the heap with higher priority. Now consider the worst case, where each newly inserted task having priority = 0: after n+1 insertions, the priority of task_x becomes -1, and from now on all newly inserted tasks (which can only have non-negative priority) will be executed later than task_x. And for the worst case, at this time there can only have (m + n) - (n + 1) = m - 1 tasks with higher priority than task_x. \n",
    "\n",
    "To sum up, for any task currently with priority n and with m numbers of tasks with higher priority in the heap, after m+n times, it will be executed."
   ],
   "metadata": {
    "id": "6r0dAEsQyOpz",
    "pycharm": {
     "name": "#%% md\n"
    }
   }
  },
  {
   "cell_type": "markdown",
   "source": [
    "**Implement a task scheduler that behaves as described above.  Like the previous scheduler, it should also be stable.  The details of the implementation are up to you, as long as the tasks come out in the right order.**"
   ],
   "metadata": {
    "id": "XdDKUPcoyUt3",
    "pycharm": {
     "name": "#%% md\n"
    }
   }
  },
  {
   "cell_type": "code",
   "source": [
    "class LiveTaskScheduler:\n",
    "\n",
    "  def __init__(self):\n",
    "    self.heap = []\n",
    "    self.entryCount = 0\n",
    "  \n",
    "  def insert(self, task_name, priority):\n",
    "    priority = max(priority, 0)\n",
    "    heappush(self.heap, [priority + self.entryCount, self.entryCount, task_name])\n",
    "    self.entryCount += 1\n",
    "    #decreasing each other by 1 would be O(n), which is too inefficent and will cause the program to run ~10 minutes.\n",
    "    #however, decreasing each other by 1 is equivalent to add n to the n-th newly inserted task, and this is just O(1).\n",
    "    #Now the program only takes ~1 second.\n",
    "\n",
    "    #in case you still want the original logic, which decrease each one by 1, then the code for insert should be:\n",
    "    # def insert(self, task_name, priority):\n",
    "    #   priority = max(priority, 0)\n",
    "    #   heappush(self.heap, [priority, self.entryCount, task_name])\n",
    "    #   self.entryCount += 1\n",
    "    #   for i in self.heap:\n",
    "    #     i[0] -= 1\n",
    "    \n",
    "  def next_task(self):\n",
    "    _, _, task_name = heappop(self.heap) #(underscore is conventionally used to represent a variable that we don't use)\n",
    "    return task_name\n",
    "  \n",
    "  def is_empty(self):\n",
    "    return len(self.heap) == 0"
   ],
   "metadata": {
    "id": "nhv3NO2Gwb8j",
    "pycharm": {
     "name": "#%%\n"
    }
   },
   "execution_count": 41,
   "outputs": []
  },
  {
   "cell_type": "markdown",
   "source": [
    "**Now let's test this out.**"
   ],
   "metadata": {
    "id": "baCooqRA6uga",
    "pycharm": {
     "name": "#%% md\n"
    }
   }
  },
  {
   "cell_type": "code",
   "source": [
    "def stress_test(scheduler, iters, M, seed=42):\n",
    "  '''\n",
    "  Runs scheduler for iters iterations.  \n",
    "  For the first M iterations no tasks are removed. \n",
    "  In other iterations, we'll add a task with random priority if there are either\n",
    "  no tasks left to remove, or if a random coin comes up heads.\n",
    "  Returns the task schedule.\n",
    "  '''\n",
    "  random.seed(seed)\n",
    "\n",
    "  task_schedule = []\n",
    "\n",
    "  for i in range(iters):\n",
    "    if scheduler.is_empty() or i < M or random.randint(0,1):\n",
    "      name = \"Task \" + str(i)\n",
    "      priority = random.randint(0,100)\n",
    "      scheduler.insert(name, priority)\n",
    "    else:\n",
    "      task_schedule.append(scheduler.next_task())\n",
    "\n",
    "  return task_schedule"
   ],
   "metadata": {
    "id": "Vk-NaU936Oia",
    "pycharm": {
     "name": "#%%\n"
    }
   },
   "execution_count": 16,
   "outputs": []
  },
  {
   "cell_type": "markdown",
   "source": [
    "**Test 1**"
   ],
   "metadata": {
    "id": "XKp63l6gCa7s",
    "pycharm": {
     "name": "#%% md\n"
    }
   }
  },
  {
   "cell_type": "code",
   "source": [
    "scheduler = LiveTaskScheduler()\n",
    "tasks = stress_test(scheduler, 100, 1)\n",
    "print(tasks[-10:])  #print the last 10 tasks scheduled"
   ],
   "metadata": {
    "id": "bTDyEdMs9aql",
    "outputId": "770013cf-8f39-47f0-ac9c-482ca81c113e",
    "colab": {
     "base_uri": "https://localhost:8080/"
    },
    "pycharm": {
     "name": "#%%\n"
    }
   },
   "execution_count": 17,
   "outputs": [
    {
     "output_type": "stream",
     "name": "stdout",
     "text": [
      "['Task 72', 'Task 46', 'Task 82', 'Task 56', 'Task 88', 'Task 91', 'Task 89', 'Task 83', 'Task 71', 'Task 92']\n"
     ]
    }
   ]
  },
  {
   "cell_type": "markdown",
   "source": [
    "**Test 2**\n",
    "\n",
    "Ideally this should run in a couple seconds."
   ],
   "metadata": {
    "id": "H5HVUm-7CecE",
    "pycharm": {
     "name": "#%% md\n"
    }
   }
  },
  {
   "cell_type": "code",
   "source": [
    "scheduler = LiveTaskScheduler()\n",
    "tasks = stress_test(scheduler, 500000, 10000)\n",
    "print(tasks[-10:])"
   ],
   "metadata": {
    "id": "VdhtMJ6H0DLF",
    "outputId": "c211b83b-cc13-4ea4-b0ef-71f0d8957bb9",
    "colab": {
     "base_uri": "https://localhost:8080/"
    },
    "pycharm": {
     "name": "#%%\n"
    }
   },
   "execution_count": 42,
   "outputs": [
    {
     "output_type": "stream",
     "name": "stdout",
     "text": [
      "['Task 479000', 'Task 479128', 'Task 478975', 'Task 479034', 'Task 479042', 'Task 479182', 'Task 479179', 'Task 479129', 'Task 479124', 'Task 478978']\n"
     ]
    }
   ]
  }
 ]
}